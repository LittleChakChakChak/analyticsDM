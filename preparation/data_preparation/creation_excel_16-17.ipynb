{
 "cells": [
  {
   "cell_type": "code",
   "execution_count": 1,
   "id": "401df6e8",
   "metadata": {},
   "outputs": [],
   "source": [
    "import pandas as pd"
   ]
  },
  {
   "cell_type": "code",
   "execution_count": 2,
   "id": "75138b28",
   "metadata": {},
   "outputs": [
    {
     "name": "stderr",
     "output_type": "stream",
     "text": [
      "/Users/dmitriy/anaconda3/lib/python3.10/site-packages/openpyxl/worksheet/_read_only.py:79: UserWarning: Data Validation extension is not supported and will be removed\n",
      "  for idx, row in parser.parse():\n"
     ]
    }
   ],
   "source": [
    "df_17_18 = pd.read_excel(\"full_files/17-18.xlsx\")"
   ]
  },
  {
   "cell_type": "code",
   "execution_count": 3,
   "id": "86220f08",
   "metadata": {},
   "outputs": [],
   "source": [
    "pd.set_option('display.max_rows', 450)"
   ]
  },
  {
   "cell_type": "markdown",
   "id": "5f54f0fa",
   "metadata": {},
   "source": [
    "## Создание excel файла за 16-17 год из файла 17-18 года"
   ]
  },
  {
   "cell_type": "markdown",
   "id": "4ec04c8c",
   "metadata": {},
   "source": [
    "#### Копирование файла"
   ]
  },
  {
   "cell_type": "code",
   "execution_count": 4,
   "id": "aa9008ae",
   "metadata": {},
   "outputs": [],
   "source": [
    "df = df_17_18.copy(deep=True)"
   ]
  },
  {
   "cell_type": "markdown",
   "id": "2935dda0",
   "metadata": {},
   "source": [
    "#### Название колонок"
   ]
  },
  {
   "cell_type": "code",
   "execution_count": 5,
   "id": "394d037a",
   "metadata": {},
   "outputs": [],
   "source": [
    "df.columns = ['id', 'name_user', 'phone', 'city', 'addres', 'kids', 'status', 'source', \n",
    "                          'new_call', 'estimation', 'new_note', 'skip', 'call', 'note']"
   ]
  },
  {
   "cell_type": "markdown",
   "id": "46978483",
   "metadata": {},
   "source": [
    "#### Удаление колонок нужных для 17-18 года"
   ]
  },
  {
   "cell_type": "code",
   "execution_count": 6,
   "id": "a1cf6ee3",
   "metadata": {},
   "outputs": [],
   "source": [
    "df = df.drop(['new_call', 'estimation', 'new_note', 'skip'], axis=1)"
   ]
  },
  {
   "cell_type": "markdown",
   "id": "4e12a7fc",
   "metadata": {},
   "source": [
    "#### Удаление первый пустых строк"
   ]
  },
  {
   "cell_type": "code",
   "execution_count": 7,
   "id": "c1046d58",
   "metadata": {},
   "outputs": [],
   "source": [
    "df = df[4:]"
   ]
  },
  {
   "cell_type": "markdown",
   "id": "340af0d1",
   "metadata": {},
   "source": [
    "#### Удаление пустых строк"
   ]
  },
  {
   "cell_type": "code",
   "execution_count": 8,
   "id": "a1f4b7cb",
   "metadata": {},
   "outputs": [],
   "source": [
    "df = df.dropna(how = 'all')"
   ]
  },
  {
   "cell_type": "code",
   "execution_count": 1,
   "id": "04fa0f5d",
   "metadata": {},
   "outputs": [],
   "source": [
    "# df.tail(200) - просмотр с чем рабоем"
   ]
  },
  {
   "cell_type": "markdown",
   "id": "48076b0a",
   "metadata": {},
   "source": [
    "#### Выбираем строки по \"звонку\" и \"примечание\" когда заполнялись в 16-17 году"
   ]
  },
  {
   "cell_type": "code",
   "execution_count": 10,
   "id": "3a190c43",
   "metadata": {},
   "outputs": [],
   "source": [
    "df = df[:282]"
   ]
  },
  {
   "cell_type": "code",
   "execution_count": 2,
   "id": "01d29736",
   "metadata": {},
   "outputs": [],
   "source": [
    "# df.tail(20) - просмотр с чем рабоем"
   ]
  },
  {
   "cell_type": "code",
   "execution_count": 12,
   "id": "6ec4f3c2",
   "metadata": {},
   "outputs": [],
   "source": [
    "df.to_excel(\"full_files/16-17.xlsx\", index=False)"
   ]
  }
 ],
 "metadata": {
  "kernelspec": {
   "display_name": "Python 3 (ipykernel)",
   "language": "python",
   "name": "python3"
  },
  "language_info": {
   "codemirror_mode": {
    "name": "ipython",
    "version": 3
   },
   "file_extension": ".py",
   "mimetype": "text/x-python",
   "name": "python",
   "nbconvert_exporter": "python",
   "pygments_lexer": "ipython3",
   "version": "3.10.9"
  }
 },
 "nbformat": 4,
 "nbformat_minor": 5
}
