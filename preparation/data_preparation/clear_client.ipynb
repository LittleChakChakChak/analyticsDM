{
 "cells": [
  {
   "cell_type": "code",
   "execution_count": 1,
   "id": "b5bb04d6",
   "metadata": {},
   "outputs": [],
   "source": [
    "import pandas as pd\n",
    "import numpy as np\n",
    "import re"
   ]
  },
  {
   "cell_type": "markdown",
   "id": "a019036c",
   "metadata": {},
   "source": [
    "### Формотирование файлов каждого года для того что бы соединить все в один файл для анализа и машинного обучения (все файлы делаем под один шаблон)"
   ]
  },
  {
   "cell_type": "markdown",
   "id": "bb1e055f",
   "metadata": {},
   "source": [
    "#### Константа для изменения каждого года"
   ]
  },
  {
   "cell_type": "code",
   "execution_count": 2,
   "id": "3874c19c",
   "metadata": {},
   "outputs": [],
   "source": [
    "year = '22-23'"
   ]
  },
  {
   "cell_type": "code",
   "execution_count": 3,
   "id": "e0e34eba",
   "metadata": {},
   "outputs": [],
   "source": [
    "df = pd.read_excel('full_files/'+year+'.xlsx')"
   ]
  },
  {
   "cell_type": "markdown",
   "id": "86c48108",
   "metadata": {},
   "source": [
    "#### Для чтения полного df"
   ]
  },
  {
   "cell_type": "code",
   "execution_count": 4,
   "id": "a03787dd",
   "metadata": {},
   "outputs": [],
   "source": [
    "pd.set_option('display.max_rows', 700)"
   ]
  },
  {
   "cell_type": "code",
   "execution_count": 5,
   "id": "91f9d6bf",
   "metadata": {},
   "outputs": [],
   "source": [
    "# df - просмотр с чем рабоем"
   ]
  },
  {
   "cell_type": "markdown",
   "id": "772ba92d",
   "metadata": {},
   "source": [
    "#### Очистка колонок, название колонок, удаление лишних колонок, удаление первых строк, удаление полностью пустых строк"
   ]
  },
  {
   "cell_type": "code",
   "execution_count": 6,
   "id": "20f23632",
   "metadata": {},
   "outputs": [],
   "source": [
    "df = df.iloc[:, 0:14]\n",
    "df.columns = ['id', 'name_user', 'phone', 'city', 'addres', 'kids', 'status', 'source', \n",
    "                          'call', 'estimation', 'note', 'skip', 'old_call', 'old_note']\n",
    "df = df.drop(['estimation', 'skip', 'old_call', 'old_note'], axis=1)\n",
    "df = df[4:]"
   ]
  },
  {
   "cell_type": "code",
   "execution_count": 7,
   "id": "6d55bc4e",
   "metadata": {},
   "outputs": [],
   "source": [
    "df = df.drop(['id'], axis=1)\n",
    "df = df.dropna(thresh=2)"
   ]
  },
  {
   "cell_type": "code",
   "execution_count": 8,
   "id": "950e6562",
   "metadata": {},
   "outputs": [],
   "source": [
    "# df.head(600) - просмотр с чем рабоем"
   ]
  },
  {
   "cell_type": "markdown",
   "id": "e5400ede",
   "metadata": {},
   "source": [
    "#### Просматривание колонок на уникальное значение и форматирвоание к единому шаблону "
   ]
  },
  {
   "cell_type": "code",
   "execution_count": 9,
   "id": "8cab2a98",
   "metadata": {
    "scrolled": false
   },
   "outputs": [
    {
     "data": {
      "text/plain": [
       "array(['Старая Купавна', 'Кучино', 'Павлино', 'Бисерово',\n",
       "       'Железнодорожный', 'Москва', 'Рыбхоз', 'Щемилово', 'Зеленый',\n",
       "       'Обухово', 'Новая Купавна', 'Колонтаево', 'Вишняковские дачи',\n",
       "       'Новая купавна', 'Заря', ' Кучино', 'Шульгино', 'Монино',\n",
       "       'Молзино', 'Балашиха', 'Балобаново', 'Новое Бисерово', 'Марьино',\n",
       "       'Кудиново', 'Ногинск', 'Станция Купавна', 'Электросталь',\n",
       "       'г. Балашиха', 'Мамонтово', 'Вишняково', 'Элекктросталь',\n",
       "       'пос. Воровского', 'Кашино', 'Новая\\nКупавна', 'Салтыковка',\n",
       "       'Водокачка', 'Реутов', 'Большое Буньково', 'Черепково', 'Черное',\n",
       "       'Ельня', 'Люберцы', 'Новое Павлино', 'Лосино-Петровский', 'Видное',\n",
       "       'Тимохово', 'Чудинки', 'п. Воровского', 'Бисерово Парк',\n",
       "       'Храпуново', 'монино', 'Старая Купавна ', 'Некрасовка',\n",
       "       'Электроугли', 'СтараяКупавна', 'Котеджный поселок \"Мелихово\"'],\n",
       "      dtype=object)"
      ]
     },
     "execution_count": 9,
     "metadata": {},
     "output_type": "execute_result"
    }
   ],
   "source": [
    "df.city.unique()"
   ]
  },
  {
   "cell_type": "markdown",
   "id": "cdba3c9a",
   "metadata": {},
   "source": [
    "#### Города"
   ]
  },
  {
   "cell_type": "code",
   "execution_count": 10,
   "id": "e3de50a0",
   "metadata": {},
   "outputs": [
    {
     "data": {
      "text/plain": [
       "Старая Купавна                  226\n",
       "Железнодорожный                 130\n",
       "Станция Купавна                  19\n",
       "Балашиха                         17\n",
       "Ногинск                          16\n",
       "Зеленый                          16\n",
       "Бисерово                         15\n",
       "Новая Купавна                    15\n",
       "Обухово                          14\n",
       "Шульгино                         12\n",
       "Рыбхоз                           12\n",
       "Монино                           11\n",
       "Электросталь                     11\n",
       "Щемилово                         11\n",
       "Кудиново                         10\n",
       "Заря                              9\n",
       "Москва                            8\n",
       "Колонтаево                        5\n",
       "Вишняковские дачи                 5\n",
       "Балобаново                        4\n",
       "Кучино                            4\n",
       "Павлино                           3\n",
       "Кашино                            2\n",
       "Электроугли                       2\n",
       "Лосино-Петровский                 2\n",
       "Люберцы                           2\n",
       "Черное                            2\n",
       "Водокачка                         2\n",
       "пос. Воровского                   1\n",
       "Салтыковка                        1\n",
       "Молзино                           1\n",
       "Некрасовка                        1\n",
       "Храпуново                         1\n",
       "Бисерово Парк                     1\n",
       "п. Воровского                     1\n",
       "Чудинки                           1\n",
       "Тимохово                          1\n",
       "Видное                            1\n",
       "Новое Бисерово                    1\n",
       "Новое Павлино                     1\n",
       "Марьино                           1\n",
       "Ельня                             1\n",
       "Мамонтово                         1\n",
       "Черепково                         1\n",
       "Большое Буньково                  1\n",
       "Реутов                            1\n",
       "Вишняково                         1\n",
       "Котеджный поселок \"Мелихово\"      1\n",
       "Name: city, dtype: int64"
      ]
     },
     "execution_count": 10,
     "metadata": {},
     "output_type": "execute_result"
    }
   ],
   "source": [
    "df['city'] = df['city'].replace(['Старая Купавна ', 'СтараяКупавна', 'Старая купавна '],'Старая Купавна')\n",
    "df['city'] = df['city'].replace(['Новая\\nКупавна','Новая купавна'], 'Новая Купавна')\n",
    "df['city'] = df['city'].replace(['г. Балашиха', 'Балашиха '],'Балашиха')\n",
    "df['city'] = df['city'].replace('монино','Монино')\n",
    "df['city'] = df['city'].replace('Элекктросталь','Электросталь')\n",
    "df['city'] = df['city'].replace(' Кучино','Кучино')\n",
    "df['city'] = df['city'].replace(['Железнодорожный ', 'Железнодорожная '],'Железнодорожный')\n",
    "df['city'] = df['city'].replace('Бисерово ','Бисерово')\n",
    "df['city'] = df['city'].replace('Обухово ','Обухово')\n",
    "df['city'] = df['city'].replace('Кучино, Заря(основной)','Заря')\n",
    "df['city'] = df['city'].replace('! Ногинск, Старая Купавна','Ногинск')\n",
    "df['city'] = df['city'].replace('Шульгино, \\n! Обухово','Шульгино')\n",
    "df['city'] = df['city'].replace('Новое бисерово','Новое Бисерово')\n",
    "df.city.value_counts()"
   ]
  },
  {
   "cell_type": "markdown",
   "id": "d1aaa82e",
   "metadata": {},
   "source": [
    "#### Статус"
   ]
  },
  {
   "cell_type": "code",
   "execution_count": 11,
   "id": "70fb37dc",
   "metadata": {},
   "outputs": [
    {
     "data": {
      "text/plain": [
       "array(['Постоянный', 'Новый', 'Архив'], dtype=object)"
      ]
     },
     "execution_count": 11,
     "metadata": {},
     "output_type": "execute_result"
    }
   ],
   "source": [
    "df.status.unique()"
   ]
  },
  {
   "cell_type": "code",
   "execution_count": 12,
   "id": "d3f4914d",
   "metadata": {},
   "outputs": [
    {
     "data": {
      "text/plain": [
       "Постоянный    464\n",
       "Новый         110\n",
       "Архив          31\n",
       "Name: status, dtype: int64"
      ]
     },
     "execution_count": 12,
     "metadata": {},
     "output_type": "execute_result"
    }
   ],
   "source": [
    "df['status'] = df['status'].replace(['Новый ', 'новый', 'Новая ', 'Новывй'],'Новый')\n",
    "df['status'] = df['status'].replace(['Постоянный ','постоянный','Поятоянный'], 'Постоянный')\n",
    "df.status.value_counts()"
   ]
  },
  {
   "cell_type": "markdown",
   "id": "6f789b64",
   "metadata": {},
   "source": [
    "#### Источник"
   ]
  },
  {
   "cell_type": "code",
   "execution_count": 13,
   "id": "c31b67ff",
   "metadata": {},
   "outputs": [
    {
     "data": {
      "text/plain": [
       "array([nan, 'Интернет', 'Инстаграм', ' интернет', 'Знакомые', 'Группа ВК',\n",
       "       'Стенд', 'Рекомендация', 'Газета', 'интернет', 'Объявление',\n",
       "       'в сад приходил Олег', 'Рекомендации', 'Авто', 'Подъезд',\n",
       "       'Знакомые Лизы', 'Контакт', 'Визитки', 'Конкурс', 'Садик',\n",
       "       'вконтакте', 'Дима', 'Машина', 'Вконтакте', 'Сосед Екатерина22',\n",
       "       'Визитка', 'В контакте', 'Интерент', 'Выиграла в конкурсе',\n",
       "       'Инстаграмм', 'Авито', 'инстаграм', 'инстаграмм', 'Конкурс вк',\n",
       "       'Подруга Алена5', 'знакомые', 'Лена', 'Лиза',\n",
       "       'Вконтакте, заказала родитель', 'рекоминдация', 'Тамара', 'авито',\n",
       "       'рекомндация'], dtype=object)"
      ]
     },
     "execution_count": 13,
     "metadata": {},
     "output_type": "execute_result"
    }
   ],
   "source": [
    "df.source.unique()"
   ]
  },
  {
   "cell_type": "code",
   "execution_count": 14,
   "id": "b00a7fc3",
   "metadata": {},
   "outputs": [
    {
     "data": {
      "text/plain": [
       "Интернет        98\n",
       "Рекомендация    31\n",
       "Знакомые        30\n",
       "Инстаграмм      21\n",
       "Вконтакте       21\n",
       "Авито            9\n",
       "Конкурс          7\n",
       "Листовки         4\n",
       "Объявление       4\n",
       "Машина           3\n",
       "Газета           2\n",
       "Визитка          2\n",
       "Name: source, dtype: int64"
      ]
     },
     "execution_count": 14,
     "metadata": {},
     "output_type": "execute_result"
    }
   ],
   "source": [
    "df['source'] = df['source'].replace([' интернет', 'интернет','Интерент'],'Интернет')\n",
    "df['source'] = df['source'].replace(['Группа ВК','вконтакте','В контакте','Вконтакте, заказала родитель','Контакт', 'вк', 'ВК'], 'Вконтакте')\n",
    "df['source'] = df['source'].replace(['в сад приходил Олег','Знакомые Лизы','знакомые','Лена','Лиза', 'Дима', 'Тамара'],'Знакомые')\n",
    "df['source'] = df['source'].replace(['Инстаграм','инстаграм','инстаграмм'],'Инстаграмм')\n",
    "df['source'] = df['source'].replace(['Рекомендации','рекомндация','Подруга Алена5','Сосед Екатерина22','рекоминдация','рекомендация','Садик'],'Рекомендация')\n",
    "df['source'] = df['source'].replace('авито','Авито')\n",
    "df['source'] = df['source'].replace(['Выиграла в конкурсе','Конкурс вк', '1место '],'Конкурс')\n",
    "df['source'] = df['source'].replace('Визитки','Визитка')\n",
    "df['source'] = df['source'].replace('Авто','Машина')\n",
    "df['source'] = df['source'].replace(['Подъезд','Стенд'],'Листовки')\n",
    "df['source'] = df['source'].replace('Новый',np.nan)\n",
    "df.source.value_counts()"
   ]
  },
  {
   "cell_type": "markdown",
   "id": "9db279c0",
   "metadata": {},
   "source": [
    "### Звонок"
   ]
  },
  {
   "cell_type": "code",
   "execution_count": 15,
   "id": "756210b1",
   "metadata": {},
   "outputs": [
    {
     "data": {
      "text/plain": [
       "array([nan, 'уежаю ', 'занято', 'Заказала', 'заказала', 'не ответила',\n",
       "       'отказалась', 'думают', 'заказал', 'выросли', 'вырос', 'Заказал',\n",
       "       'не планируют', 'заказали у других', 'ушли к конкурентам',\n",
       "       'уточнит', 'выросли ', 'не решились', 'не будут', 'думает',\n",
       "       'закала', 'на', 'заболели', 'уезжают', 'не ответил',\n",
       "       'номер не але', 'Отказались', 'не ответили', 'уехали', 'финансы',\n",
       "       'сегодня', 'переехали', 'бдут праздновать в дурго месте', '!',\n",
       "       'дети не хотят', 'автоотвечик', 'не будут в этом году', 'скинула',\n",
       "       'не отвечает', 'пока не думали', 'перезвонит', 'написал', '-',\n",
       "       'не будут ', 'не будут заказывать', 'уезжает', 'Думает',\n",
       "       'Вырочли дети', 'не получается', 'сама играет снегурочку',\n",
       "       'Вырос ребенок', 'пригласили на елки', 'не доступен',\n",
       "       'Выросли дети', 'Не будет заказывать', 'Перехали в Москву',\n",
       "       'выросли дети', 'Абонент в сети не зарегистрирован',\n",
       "       'Переехали в Таганрог', 'Дети выросли',\n",
       "       'Не будут из-за ковида и выросли дети', 'Вырасли дети',\n",
       "       'Переехали в Москву', 'номер не обслуживается'], dtype=object)"
      ]
     },
     "execution_count": 15,
     "metadata": {},
     "output_type": "execute_result"
    }
   ],
   "source": [
    "df.call.unique()"
   ]
  },
  {
   "cell_type": "code",
   "execution_count": 16,
   "id": "480ea695",
   "metadata": {},
   "outputs": [
    {
     "data": {
      "text/plain": [
       "array([nan, 'Уезжают', 'Занято', 'Заказал', 'Отменил', 'Думают',\n",
       "       'Выросли дети', 'Не будут(в этом году)', 'Ушли к конкурентам',\n",
       "       'Номер заблокирован', 'Отказались', 'Переехали'], dtype=object)"
      ]
     },
     "execution_count": 16,
     "metadata": {},
     "output_type": "execute_result"
    }
   ],
   "source": [
    "df['call'] = df['call'].replace(['уежаю ', 'уезжают','уехали','бдут праздновать в дурго месте',\n",
    "                                               'уезжает','Уезжаюь','Уезжайт', 'в этом году уезжают','Уезжают.',\n",
    "                                               'Идут в гости.', 'Скорее всего уедут','Уезжают в этом году',\n",
    "                                               'уезжют','Празднует с Алена5','заказали всместе с соседями'],\n",
    "                                              'Уезжают')\n",
    "\n",
    "df['call'] = df['call'].replace(['Заказала','заказала','заказал','закала','Заказал ','Заказала ',\n",
    "                                               'Зкаазала', 'Закзал', 'заказали', 'Заказла', 'Заказл', \n",
    "                                               'Заказала вместе с Греховой', 'Просто вручить подарок, если будем рядом.', \n",
    "                                               'Объединилась с Дмитрием','Заказала. Очень не понравилось. Обещала скидку',\n",
    "                                               'Заказала. Сказала, что быстро все прошло.', 'В кафе будет Дед',\n",
    "                                               'Закзала','Записала'], \n",
    "                                              'Заказал')\n",
    "\n",
    "df['call'] = df['call'].replace(['занято','не ответил','не отвечает','не доступен','не ответила',\n",
    "                                               'анято','автоотвечик','сбросила','Занята','скинула', \n",
    "                                               'Абон. Не доступен ', 'Не взяли трубку', 'не взяла трубку', \n",
    "                                               'Не доступен','Аппарат выключен', 'абонент временно не доступен', \n",
    "                                               'Абонент недоступен','Не дозвонилась', 'аппарат выключен',\n",
    "                                               'Не дозвонился', 'не дозвонился','не доступна','попробывать ещё раз позвонить',\n",
    "                                               'Не взяла трубку','Сбросила','просила перезвонить, не взяла трубку Д',\n",
    "                                               'занят','не дозвнился','просила перезвонить, не взяла Д',\n",
    "                                               'Сбросил','не дозвонилась','автоответчик'],\n",
    "                                              'Занято')\n",
    "\n",
    "df['call'] = df['call'].replace(['думают','уточнит','думает','Думает','пока не думали','Думает ',\n",
    "                                               'Напишет','Если что перезвонит','Перезвонит','Ответит 14 числа',\n",
    "                                               'Отпишется если что ','Скинул цены','Пока не знаем ', 'перезвонит',\n",
    "                                               'Звонил','пока не знают, уежают или нет', 'позвонил', \n",
    "                                               'пока не определились с датой, должны позвонить, не очень понравились актеры в 2016 году, думаю направить железку туда', \n",
    "                                               'Звонила', 'позвонил Наталье','Перезвонить 5 декабря', \n",
    "                                               'Перезвонить 10 декабря', 'Перезвонить вечером 4 декабря',\n",
    "                                               'Перезвонит сама', 'Перезвонить 20 декабря ', 'Позвонить 28 ноября',\n",
    "                                               'Подумает', 'Думает на счет дня','позвонят','Подумает, перезвонит сама',\n",
    "                                               'Звонили Маргарите','звонок','Обсудит с мужем ','Позвонит завтра 9дек',\n",
    "                                               'подумает Д','подумают Д','Сам перезвонит',\n",
    "                                               'Обещал скидку 200 рублей, позвонить в пн','позвонят ',\n",
    "                                               'Звонок','обсудит с супругой'],\n",
    "                                              'Думают')\n",
    "\n",
    "df['call'] = df['call'].replace(['заказали у других','ушли к конкурентам','Заказала других', \n",
    "                                               'Не понравилось. Заказали у других.', 'Заказали в другом месте',\n",
    "                                               'Заказала в другом месте','заказала у других',\n",
    "                                               'Снеачала заказала, а потом отменила','Заказала у других',\n",
    "                                               'Заказывают у других','учавствуют в другом заказе'],\n",
    "                                              'Ушли к конкурентам')\n",
    "\n",
    "df['call'] = df['call'].replace(['номер не але','номер не обслуживается','Абонент в сети не зарегистрирован', \n",
    "                                               'номер не используется','Сменили номер', 'Номер не используется',\n",
    "                                               'Номер временно заблокирован', 'номер не существует',\n",
    "                                               'данный вид связи не доступен для абонента',\n",
    "                                               'Обслуживание преостановлено'],\n",
    "                                              'Номер заблокирован')\n",
    "\n",
    "df['call'] = df['call'].replace(['Отменила','Передумала ','отказалась', 'Отказ', 'Отказалась', \n",
    "                                               'отказ', 'Отмена','Сначала заказала, потом отказалась. Позвонить в следующем году.  ', \n",
    "                                               'Отменила по семеным обстоятельствам',\n",
    "                                               'Сначала заказал, потом отказался', 'Заказала, потом отказалась', \n",
    "                                               'Отмена. Сначала заказала, потом отказалась.', \n",
    "                                               'Сначала заказала, потом отказалась', \n",
    "                                               'Сначала заказала, потом отказался', 'Хочет Анжелу'],\n",
    "                                              'Отменил')\n",
    "\n",
    "df['call'] = df['call'].replace(['переехали','Переехали в Таганрог','Переехали в Москву',\n",
    "                                               'Перехали в Москву','Переехали в другой город', \n",
    "                                               'Переехали в Москву, можно позвонить', 'Переехали.', 'переехали',\n",
    "                                               'Переехали в Москву, но возможно приедут и тогда закажут',\n",
    "                                               'переехали '],\n",
    "                                              'Переехали')\n",
    "\n",
    "df['call'] = df['call'].replace(['дети не хотят','Дети не хотят','выросли','вырос','выросли ',\n",
    "                                               'Вырочли дети','Вырос ребенок', 'выросли дети', \n",
    "                                               'Не будут из-за ковида и выросли дети', 'Дети выросли', \n",
    "                                               'Вырасли дети', 'дети выросли', 'вырос ребенок', \n",
    "                                               'Николай вырос, софья заказала', 'ребенок вырок','Дети выросли.',\n",
    "                                               'Больше не будут заказывать, выросли','Дети  выросли',\n",
    "                                               'Дети выросли. Наша Снегурочка.', 'Скорее всего не будут. Выросли',\n",
    "                                              ],\n",
    "                                              'Выросли дети')\n",
    "\n",
    "df['call'] = df['call'].replace(['не планируют','не будут','не будут в этом году','не получается',\n",
    "                                               'пригласили на елки','финансы','сегодня','на', '!',\n",
    "                                               'не будут заказывать','-','не будут ','не ответили','написал', \n",
    "                                               'написал', 'не будут ', 'сама играет снегурочку','Не Заказал ',\n",
    "                                               'Не ответила ', 'Не отвечает ','Не ответил', 'Уже провели ярмарку',\n",
    "                                               'Не ответила','не стал звонить','Не отвечает','Не интересует',\n",
    "                                               'Не нужно', 'не решились', 'не будет заказывать', \n",
    "                                               'Не взяли трубку, отвечает автоответчик','абонент не доступен', \n",
    "                                               'абонент не доступен ', 'не будет в этом году заказывать', \n",
    "                                               'не будет в этом году заказывать','не будут заказывать в этом году',\n",
    "                                               'в этом году не будут заказывать', 'звонили', 'звонила', 'Позвонил',\n",
    "                                               'Не взяли трубку 2 раза','Не будут заказывать', 'Звонили', \n",
    "                                               'позвонила сама',  'Позвонила', 'позвонила ', \n",
    "                                               'Позвонила нам, если надумает, то закажет на 31 число, цены старой купавны +300 р', \n",
    "                                               'звонил', 'Не будет заказывать','На следующий год закажет', \n",
    "                                               'Не будет заказывать. Испугаляс ребенок', 'нет','не надо',\n",
    "                                               'В этом году не будут','не планирует, если передумает. То позвонит',\n",
    "                                               'второй ребенок маленький, боятся','Закажут в следущем году',\n",
    "                                               'не планируют, но если передумает то позвонит','Не будет',\n",
    "                                               'в этом году нет','Пока не планирует','Не планируют',\n",
    "                                               'Виктория попросила цены, виктора не интересует Д',\n",
    "                                               'не надо ', 'не будет','В следующем году будут заказывать',\n",
    "                                               'елена не ответила, татьяна не будет','в следующем году',\n",
    "                                               'дубль евгения6','не будут, не понравился дед мороз',\n",
    "                                               'лучше не ехать','?','в следующем году будут',\n",
    "                                               'не будут в этом году (ремонт)','для нас далеко',\n",
    "                                               'Не будут в этом году ','заболели'],\n",
    "                                              'Не будут(в этом году)')\n",
    "\n",
    "df['call'] = df['call'].replace(['не звонил',' '], np.nan)\n",
    "\n",
    "df['call'] = df['call'].replace(['дубльАнна30','Татьяна44','дубль с юлией 33',\n",
    "                                               'Заказала Ольга58'], \n",
    "                                              'Дубль')\n",
    "\n",
    "# df['call'] = df['call'].replace('заболели','Заболели')\n",
    "df.call.unique()"
   ]
  },
  {
   "cell_type": "code",
   "execution_count": 17,
   "id": "1858d4cc",
   "metadata": {},
   "outputs": [
    {
     "data": {
      "text/plain": [
       "Заказал                  73\n",
       "Выросли дети             40\n",
       "Не будут(в этом году)    35\n",
       "Занято                   30\n",
       "Думают                   12\n",
       "Уезжают                  10\n",
       "Переехали                 7\n",
       "Номер заблокирован        3\n",
       "Отменил                   2\n",
       "Ушли к конкурентам        2\n",
       "Отказались                2\n",
       "Name: call, dtype: int64"
      ]
     },
     "execution_count": 17,
     "metadata": {},
     "output_type": "execute_result"
    }
   ],
   "source": [
    "df.call.value_counts()"
   ]
  },
  {
   "cell_type": "markdown",
   "id": "1806deb1",
   "metadata": {},
   "source": [
    "### Примечания - работать с ним не будем, потому что потом его не будем использовать"
   ]
  },
  {
   "cell_type": "code",
   "execution_count": 18,
   "id": "212c23d8",
   "metadata": {},
   "outputs": [
    {
     "data": {
      "text/plain": [
       "array([nan, 'Дубль Юлия33', 'выставка рисунков', 'оплатила',\n",
       "       'Дубль Юлия30', 'Узнать дом'], dtype=object)"
      ]
     },
     "execution_count": 18,
     "metadata": {},
     "output_type": "execute_result"
    }
   ],
   "source": [
    "df.note.unique()"
   ]
  },
  {
   "cell_type": "markdown",
   "id": "7f0379db",
   "metadata": {},
   "source": [
    "### Проверка на повторение id"
   ]
  },
  {
   "cell_type": "raw",
   "id": "7064a812",
   "metadata": {},
   "source": [
    "df.id.value_counts().loc[lambda x : x > 1]"
   ]
  },
  {
   "cell_type": "raw",
   "id": "672c0544",
   "metadata": {},
   "source": [
    "len(df.id.value_counts().loc[lambda x : x > 1])"
   ]
  },
  {
   "cell_type": "markdown",
   "id": "3c8aa6a5",
   "metadata": {},
   "source": [
    "### Пока не трогаю id, стоит заняться в самом конце"
   ]
  },
  {
   "cell_type": "markdown",
   "id": "08b8a2e9",
   "metadata": {},
   "source": [
    "## Разделение колонки с телефона и форматирование под единоую форму "
   ]
  },
  {
   "cell_type": "code",
   "execution_count": 19,
   "id": "24095a41",
   "metadata": {},
   "outputs": [],
   "source": [
    "# df['phone'] - секретная информация)))"
   ]
  },
  {
   "cell_type": "markdown",
   "id": "612a8ed9",
   "metadata": {},
   "source": [
    "### Чистка номера от мусора и подготовка номера к разделению"
   ]
  },
  {
   "cell_type": "code",
   "execution_count": 20,
   "id": "c48adb6f",
   "metadata": {},
   "outputs": [],
   "source": [
    "df['phone'] = df['phone'].astype(str)\n",
    "# df['phone'] = df['phone'].str.replace('*-***-***-**-**','***********', regex=True)\n",
    "# df['phone'] = df['phone'].str.replace('*-***-**-**-**','***********', regex=True)\n",
    "df['phone'] = df['phone'].str.replace(';','', regex=True)\n",
    "df['phone'] = df['phone'].str.replace(',','', regex=True)\n",
    "df['phone'] = df['phone'].str.replace(')','', regex=True)\n",
    "df['phone'] = df['phone'].str.replace('(','', regex=True)\n",
    "df['phone'] = df['phone'].str.replace('!','', regex=True)\n",
    "df['phone'] = df['phone'].str.replace('-','', regex=True)\n",
    "df['phone'] = df['phone'].str.replace(' ','', regex=True)\n",
    "df['phone'] = df['phone'].str.replace('  ','', regex=True)\n",
    "df['phone'] = df['phone'].str.replace('\\n','', regex=True)\n",
    "df['phone'] = df['phone'].str.replace(\"'\",'', regex=True)\n",
    "df['phone'] = df['phone'].str.replace('‑','', regex=True)\n",
    "df['phone'] = df['phone'].str.replace('-','', regex=True)\n",
    "df['phone'] = df['phone'].str.replace('+','', regex=True)\n",
    "df['phone'] = df['phone'].str.replace('-','', regex=True)\n",
    "df['phone'] = df['phone'].str.replace('--','', regex=True)\n",
    "df['phone'] = df['phone'].str.replace('дом','', regex=True)\n",
    "df['phone'] = df['phone'].str.replace('Камил','', regex=True)\n",
    "df['phone'] = df['phone'].str.replace('Андрей','', regex=True)\n",
    "df['phone'] = df['phone'].str.replace('Радмила','', regex=True)\n",
    "df['phone'] = df['phone'].str.replace('\\u202a','', regex=True)\n",
    "df['phone'] = df['phone'].str.replace('\\xa0','', regex=True)\n",
    "df['phone'] = df['phone'].str.replace('\\u202c','', regex=True)"
   ]
  },
  {
   "cell_type": "markdown",
   "id": "a808d3a8",
   "metadata": {},
   "source": [
    "### Разделение номеров"
   ]
  },
  {
   "cell_type": "code",
   "execution_count": 21,
   "id": "200a1292",
   "metadata": {},
   "outputs": [],
   "source": [
    "phone = []\n",
    "for row in df['phone']:\n",
    "    if not pd.isnull(row) and not row == 'nan':\n",
    "        if len(row) == 11:\n",
    "            row = row + ',0,0'\n",
    "        elif len(row) == 22:\n",
    "            row = row[:11] + ',' + row[11:] + ',0'\n",
    "        else:\n",
    "            row = row[:11] + ',' + row[11:22] + ',' + row[22:]\n",
    "    else:\n",
    "        row = '0,0,0'\n",
    "    phone.append(row)\n",
    "df['phone'] = phone"
   ]
  },
  {
   "cell_type": "code",
   "execution_count": 22,
   "id": "ea5192c0",
   "metadata": {},
   "outputs": [],
   "source": [
    "df[['phone_1','phone_2']] = df['phone'].str.split(',',n=1,expand=True)\n",
    "df[['phone_2','phone_3']] = df['phone_2'].str.split(',',n=1,expand=True)"
   ]
  },
  {
   "cell_type": "code",
   "execution_count": 23,
   "id": "c94a4092",
   "metadata": {},
   "outputs": [],
   "source": [
    "# df - просмотр с чем рабоем"
   ]
  },
  {
   "cell_type": "markdown",
   "id": "8ec86178",
   "metadata": {},
   "source": [
    "### Изменение первого символа в номере"
   ]
  },
  {
   "cell_type": "code",
   "execution_count": 24,
   "id": "e80d1ac6",
   "metadata": {},
   "outputs": [],
   "source": [
    "def format_phone(df):\n",
    "    phone = []\n",
    "    for row in df:\n",
    "        if row != '0':\n",
    "            final_str = '8' + row[1:]\n",
    "            phone.append(final_str)\n",
    "        else:\n",
    "            phone.append(np.nan)\n",
    "    return phone\n",
    "\n",
    "df['phone_1'] = format_phone(df['phone_1'])\n",
    "df['phone_2'] = format_phone(df['phone_2'])\n",
    "df['phone_3'] = format_phone(df['phone_3'])"
   ]
  },
  {
   "cell_type": "code",
   "execution_count": 25,
   "id": "9a7e71e4",
   "metadata": {},
   "outputs": [],
   "source": [
    "# df - просмотр с чем рабоем"
   ]
  },
  {
   "cell_type": "markdown",
   "id": "23cd751c",
   "metadata": {},
   "source": [
    "### Проверка на правильность номеров по длине  "
   ]
  },
  {
   "cell_type": "code",
   "execution_count": 26,
   "id": "70cd8c15",
   "metadata": {},
   "outputs": [
    {
     "name": "stdout",
     "output_type": "stream",
     "text": [
      "1 - ['8965427704']\n",
      "3 - ['8965427704', '8', '8']\n",
      "5 - ['8965427704', '8', '8', '8', '8']\n"
     ]
    }
   ],
   "source": [
    "result = []\n",
    "def chek_phone(df):\n",
    "    for row in df:\n",
    "        if not pd.isnull(row):\n",
    "             if len(row) != 11:\n",
    "                result.append(row)\n",
    "    if len(result) > 0:\n",
    "        print(f'{len(result)} - {result}')\n",
    "    else:\n",
    "        print(f'{df.name} - не найдено некорректных номеров')\n",
    "    \n",
    "chek_phone(df['phone_1'])\n",
    "chek_phone(df['phone_2'])\n",
    "chek_phone(df['phone_3'])"
   ]
  },
  {
   "cell_type": "markdown",
   "id": "a3fe878a",
   "metadata": {},
   "source": [
    "### Проверка на ошибка заполнения начала телефона"
   ]
  },
  {
   "cell_type": "code",
   "execution_count": 27,
   "id": "87c926f5",
   "metadata": {},
   "outputs": [
    {
     "data": {
      "text/html": [
       "<div>\n",
       "<style scoped>\n",
       "    .dataframe tbody tr th:only-of-type {\n",
       "        vertical-align: middle;\n",
       "    }\n",
       "\n",
       "    .dataframe tbody tr th {\n",
       "        vertical-align: top;\n",
       "    }\n",
       "\n",
       "    .dataframe thead th {\n",
       "        text-align: right;\n",
       "    }\n",
       "</style>\n",
       "<table border=\"1\" class=\"dataframe\">\n",
       "  <thead>\n",
       "    <tr style=\"text-align: right;\">\n",
       "      <th></th>\n",
       "      <th>name_user</th>\n",
       "      <th>phone</th>\n",
       "      <th>city</th>\n",
       "      <th>addres</th>\n",
       "      <th>kids</th>\n",
       "      <th>status</th>\n",
       "      <th>source</th>\n",
       "      <th>call</th>\n",
       "      <th>note</th>\n",
       "      <th>phone_1</th>\n",
       "      <th>phone_2</th>\n",
       "      <th>phone_3</th>\n",
       "    </tr>\n",
       "  </thead>\n",
       "  <tbody>\n",
       "  </tbody>\n",
       "</table>\n",
       "</div>"
      ],
      "text/plain": [
       "Empty DataFrame\n",
       "Columns: [name_user, phone, city, addres, kids, status, source, call, note, phone_1, phone_2, phone_3]\n",
       "Index: []"
      ]
     },
     "execution_count": 27,
     "metadata": {},
     "output_type": "execute_result"
    }
   ],
   "source": [
    "df.loc[df['phone_1'] == '8an']"
   ]
  },
  {
   "cell_type": "markdown",
   "id": "1c865eed",
   "metadata": {},
   "source": [
    "## Разделение пользователей"
   ]
  },
  {
   "cell_type": "code",
   "execution_count": 28,
   "id": "e7a51074",
   "metadata": {},
   "outputs": [
    {
     "data": {
      "text/plain": [
       "4                                             Валентина\n",
       "5                                                Олеся5\n",
       "6                                               Марина3\n",
       "7                                            Анастасия5\n",
       "8                                            Светлана13\n",
       "9                                           Екатерина21\n",
       "10                                              Ольга27\n",
       "11                                              Ольга20\n",
       "12                               Екатерина Татьянчикова\n",
       "13                                             Валерия5\n",
       "14                                            Маргарита\n",
       "15                                              Галина6\n",
       "16                                      Елена Коваленко\n",
       "17                                            Наталья21\n",
       "18    Елена Владимировна Новгородская МузРук 23 сади...\n",
       "19                                             Марина10\n",
       "20                                              Елена24\n",
       "21                                             Надежда9\n",
       "22                                          Екатерина16\n",
       "23                                 Екатерина15, Алексей\n",
       "Name: name_user, dtype: object"
      ]
     },
     "execution_count": 28,
     "metadata": {},
     "output_type": "execute_result"
    }
   ],
   "source": [
    "df['name_user'].head(20)"
   ]
  },
  {
   "cell_type": "code",
   "execution_count": 29,
   "id": "2fb2ab62",
   "metadata": {},
   "outputs": [
    {
     "ename": "IndentationError",
     "evalue": "expected an indented block after 'if' statement on line 4 (795957038.py, line 6)",
     "output_type": "error",
     "traceback": [
      "\u001b[0;36m  Cell \u001b[0;32mIn[29], line 6\u001b[0;36m\u001b[0m\n\u001b[0;31m    elif row[i] == ' ' and row[i-1] != ',':\u001b[0m\n\u001b[0m    ^\u001b[0m\n\u001b[0;31mIndentationError\u001b[0m\u001b[0;31m:\u001b[0m expected an indented block after 'if' statement on line 4\n"
     ]
    }
   ],
   "source": [
    "for row in df['name_user']:\n",
    "    if not pd.isna(row):\n",
    "        for i in range(len(row)):\n",
    "            if row[i] == '\\n' and row[i-1] != ',':\n",
    "#                 print(row + '\\n')\n",
    "            elif row[i] == ' ' and row[i-1] != ',':\n",
    "#                 print(row + '\\n')"
   ]
  },
  {
   "cell_type": "code",
   "execution_count": null,
   "id": "ce21e707",
   "metadata": {},
   "outputs": [],
   "source": [
    "df['name_user'] = df['name_user'].str.replace('Светлана9\\n! муж Алексей','Светлана,Алексей')\n",
    "df['name_user'] = df['name_user'].str.replace('Олеся10  Елена36','Олеся,Елена')\n",
    "df['name_user'] = df['name_user'].str.replace('! Вера5\\nАнна13 Надежда8','Вера,Анна,Надежда')\n",
    "df['name_user'] = df['name_user'].replace('Анна9   (подруга Вики)','Анна')\n",
    "df['name_user'] = df['name_user'].replace('Ольга25 (главбух), Геннадий2 (директор)','Ольга, Геннадий')\n",
    "\n",
    "df['name_user'] = df['name_user'].replace('Любовь \\nАнна ВасильевнаМ.Р','Любовь,Анна,')\n",
    "df['name_user'] = df['name_user'].replace('Анна9   (подруга Вики)','Анна')\n",
    "df['name_user'] = df['name_user'].replace('Анна9   (подруга Вики)','Анна')"
   ]
  },
  {
   "cell_type": "code",
   "execution_count": 31,
   "id": "e29fe29c",
   "metadata": {},
   "outputs": [
    {
     "ename": "IndentationError",
     "evalue": "expected an indented block after 'if' statement on line 4 (795957038.py, line 6)",
     "output_type": "error",
     "traceback": [
      "\u001b[0;36m  Cell \u001b[0;32mIn[31], line 6\u001b[0;36m\u001b[0m\n\u001b[0;31m    elif row[i] == ' ' and row[i-1] != ',':\u001b[0m\n\u001b[0m    ^\u001b[0m\n\u001b[0;31mIndentationError\u001b[0m\u001b[0;31m:\u001b[0m expected an indented block after 'if' statement on line 4\n"
     ]
    }
   ],
   "source": [
    "for row in df['name_user']:\n",
    "    if not pd.isna(row):\n",
    "        for i in range(len(row)):\n",
    "            if row[i] == '\\n' and row[i-1] != ',':\n",
    "#                 print(row + '\\n')\n",
    "            elif row[i] == ' ' and row[i-1] != ',':\n",
    "#                 print(row + '\\n')"
   ]
  },
  {
   "cell_type": "code",
   "execution_count": 33,
   "id": "a9411451",
   "metadata": {},
   "outputs": [
    {
     "data": {
      "text/plain": [
       "4     Валентина\n",
       "5        Олеся5\n",
       "6       Марина3\n",
       "7    Анастасия5\n",
       "8    Светлана13\n",
       "Name: name_user, dtype: object"
      ]
     },
     "execution_count": 33,
     "metadata": {},
     "output_type": "execute_result"
    }
   ],
   "source": [
    "df['name_user'].head()"
   ]
  },
  {
   "cell_type": "code",
   "execution_count": 34,
   "id": "06833d0b",
   "metadata": {},
   "outputs": [],
   "source": [
    "row_l = []\n",
    "for row in df['name_user']:\n",
    "    if not pd.isna(row):\n",
    "        row_l.append(re.sub(r\"\\d+\", r'',row).strip())\n",
    "    else: \n",
    "        row_l.append(np.nan)\n",
    "df['name_user'] = row_l"
   ]
  },
  {
   "cell_type": "code",
   "execution_count": 35,
   "id": "f209a604",
   "metadata": {
    "scrolled": false
   },
   "outputs": [],
   "source": [
    "# df['name_user'] = df['name_user'].replace('r\"\\d+\"','')\n",
    "df['name_user'] = df['name_user'].str.replace('(','', regex=True)\n",
    "df['name_user'] = df['name_user'].str.replace(')','', regex=True)\n",
    "df['name_user'] = df['name_user'].str.replace('\\n','', regex=True)\n",
    "df['name_user'] = df['name_user'].str.replace(',  ',',', regex=True)\n",
    "df['name_user'] = df['name_user'].str.replace(', ',',', regex=True)\n",
    "df['name_user'] = df['name_user'].str.replace('!',',', regex=True)"
   ]
  },
  {
   "cell_type": "code",
   "execution_count": 37,
   "id": "c555f56a",
   "metadata": {},
   "outputs": [
    {
     "data": {
      "text/plain": [
       "4    Валентина\n",
       "5        Олеся\n",
       "6       Марина\n",
       "7    Анастасия\n",
       "8     Светлана\n",
       "Name: name_user, dtype: object"
      ]
     },
     "execution_count": 37,
     "metadata": {},
     "output_type": "execute_result"
    }
   ],
   "source": [
    "df['name_user'].head(5)"
   ]
  },
  {
   "cell_type": "code",
   "execution_count": 38,
   "id": "bc40c1da",
   "metadata": {},
   "outputs": [],
   "source": [
    "df[['name_1','name_2']] = df['name_user'].str.split(',',n=1,expand=True)\n",
    "df[['name_2','name_3']] = df['name_2'].str.split(',',n=1,expand=True)"
   ]
  },
  {
   "cell_type": "markdown",
   "id": "91c7545b",
   "metadata": {},
   "source": [
    "### Анализ по строке в которой больше 1 человека "
   ]
  },
  {
   "cell_type": "code",
   "execution_count": 39,
   "id": "c4612b02",
   "metadata": {},
   "outputs": [],
   "source": [
    "df.loc[pd.isna(df['name_2']),'name_2'] = np.nan\n",
    "df.loc[pd.isna(df['name_3']),'name_3'] = np.nan"
   ]
  },
  {
   "cell_type": "code",
   "execution_count": 40,
   "id": "555bbcda",
   "metadata": {},
   "outputs": [],
   "source": [
    "# df - просмотр с чем рабоем"
   ]
  },
  {
   "cell_type": "markdown",
   "id": "02f93b5c",
   "metadata": {},
   "source": [
    "Снала планировалось разделить строку имеющиего больше 1 имено на несколько строк, но было принято решение что это помешает при машинном обучение и создаться дубль, который задублирует результат"
   ]
  },
  {
   "cell_type": "markdown",
   "id": "cee418ec",
   "metadata": {},
   "source": [
    "# Выделение возраста детей"
   ]
  },
  {
   "cell_type": "code",
   "execution_count": 42,
   "id": "66cc5ea4",
   "metadata": {},
   "outputs": [
    {
     "data": {
      "text/plain": [
       "4    Вася(5), Егор(4), Ваня(8), Георгий(6), Мила(5)...\n",
       "5    Варя(7,5), Роман(4), Семен(2,5), Михаил(4), Со...\n",
       "6            Маша(8) Д.Р., Ваня(8), Артем(8), Соня(10)\n",
       "7                        Андрей(3,5)Алиса и Антон(1,5)\n",
       "8                       Тимур(2), Арина(4), Аделина(7)\n",
       "Name: kids, dtype: object"
      ]
     },
     "execution_count": 42,
     "metadata": {},
     "output_type": "execute_result"
    }
   ],
   "source": [
    "df['kids'].head(5)"
   ]
  },
  {
   "cell_type": "code",
   "execution_count": 43,
   "id": "5a31e37f",
   "metadata": {},
   "outputs": [],
   "source": [
    "f_ages = []\n",
    "flag = False\n",
    "for row in df['kids']:\n",
    "    ages = []\n",
    "    if not pd.isnull(row): # определяем пустоту\n",
    "        ch = ''\n",
    "        for char in str(row): # пробегаем буквы строки\n",
    "            # берем значения только внутри скобок\n",
    "            if char == '(':\n",
    "                flag = True\n",
    "                continue\n",
    "            elif char == ')':\n",
    "                flag = False\n",
    "                if ch != '' and not flag:\n",
    "                    ages.append(float(ch))\n",
    "                    ch = ''\n",
    "                continue\n",
    "            if flag:\n",
    "                if char == ',':\n",
    "                    ch += '.'\n",
    "                else:\n",
    "                    ch += char\n",
    "    if len(ages) == 0:\n",
    "        f_ages.append(np.nan)\n",
    "    else:\n",
    "        f_ages.append(ages)\n",
    "df['ages'] = f_ages"
   ]
  },
  {
   "cell_type": "code",
   "execution_count": 45,
   "id": "14f94b84",
   "metadata": {},
   "outputs": [
    {
     "data": {
      "text/plain": [
       "4    [5.0, 4.0, 8.0, 6.0, 5.0, 2.0, 4.0]\n",
       "5         [7.5, 4.0, 2.5, 4.0, 8.0, 1.0]\n",
       "6                  [8.0, 8.0, 8.0, 10.0]\n",
       "7                             [3.5, 1.5]\n",
       "8                        [2.0, 4.0, 7.0]\n",
       "Name: ages, dtype: object"
      ]
     },
     "execution_count": 45,
     "metadata": {},
     "output_type": "execute_result"
    }
   ],
   "source": [
    "df['ages'].head(5)"
   ]
  },
  {
   "cell_type": "markdown",
   "id": "fdb1258a",
   "metadata": {},
   "source": [
    "### Средний возраст"
   ]
  },
  {
   "cell_type": "code",
   "execution_count": 46,
   "id": "63b1ae60",
   "metadata": {},
   "outputs": [],
   "source": [
    "average_age = []\n",
    "for row in df['ages']:\n",
    "    if type(row) == type(list()): \n",
    "        average = float(round(sum(row) / len(row),2))\n",
    "        average_age.append(average)\n",
    "    else:\n",
    "        average_age.append(np.nan)\n",
    "df['avg_age'] = average_age\n",
    "# df - просмотр с чем рабоем"
   ]
  },
  {
   "cell_type": "markdown",
   "id": "57c9d3ac",
   "metadata": {},
   "source": [
    "### Переименование колонки "
   ]
  },
  {
   "cell_type": "markdown",
   "id": "3ac924ce",
   "metadata": {},
   "source": [
    "df.rename(columns={'call': 'call_'+year, 'note':'note_'+year, 'age':'age'+year},inplace=True)\n",
    "df"
   ]
  },
  {
   "cell_type": "markdown",
   "id": "7f1ab1b1",
   "metadata": {},
   "source": [
    "df.to_excel('files_client/'+year+'.xlsx', index=False)"
   ]
  }
 ],
 "metadata": {
  "kernelspec": {
   "display_name": "Python 3 (ipykernel)",
   "language": "python",
   "name": "python3"
  },
  "language_info": {
   "codemirror_mode": {
    "name": "ipython",
    "version": 3
   },
   "file_extension": ".py",
   "mimetype": "text/x-python",
   "name": "python",
   "nbconvert_exporter": "python",
   "pygments_lexer": "ipython3",
   "version": "3.10.9"
  }
 },
 "nbformat": 4,
 "nbformat_minor": 5
}
