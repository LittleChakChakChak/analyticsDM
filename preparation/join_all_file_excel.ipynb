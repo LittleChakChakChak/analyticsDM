{
 "cells": [
  {
   "cell_type": "code",
   "execution_count": 1,
   "id": "311f61ee",
   "metadata": {},
   "outputs": [],
   "source": [
    "import pandas as pd\n",
    "import numpy as np"
   ]
  },
  {
   "cell_type": "markdown",
   "id": "80e2e8b7",
   "metadata": {},
   "source": [
    "### Для объединения всех подготовленных файлов в 1 для упращения всех дальнейщей работ "
   ]
  },
  {
   "cell_type": "code",
   "execution_count": 2,
   "id": "eb423bc3",
   "metadata": {},
   "outputs": [],
   "source": [
    "pd.set_option('display.max_rows', 1750)"
   ]
  },
  {
   "cell_type": "code",
   "execution_count": 3,
   "id": "67ff6bfa",
   "metadata": {},
   "outputs": [],
   "source": [
    "df_16_17 = pd.read_excel(\"data_preparation/files_client/16-17.xlsx\")\n",
    "df_17_18 = pd.read_excel(\"data_preparation/files_client/17-18.xlsx\")\n",
    "df_18_19 = pd.read_excel(\"data_preparation/files_client/18-19.xlsx\")\n",
    "df_19_20 = pd.read_excel(\"data_preparation/files_client/19-20.xlsx\")\n",
    "df_20_21 = pd.read_excel(\"data_preparation/files_client/20-21.xlsx\")\n",
    "df_21_22 = pd.read_excel(\"data_preparation/files_client/21-22.xlsx\")\n",
    "df_22_23 = pd.read_excel(\"data_preparation/files_client/22-23.xlsx\")\n",
    "df_23_24 = pd.read_excel(\"data_preparation/files_client/23-24.xlsx\")"
   ]
  },
  {
   "cell_type": "markdown",
   "id": "f3e3310c",
   "metadata": {},
   "source": [
    "#### Изменения типа данных у колонки"
   ]
  },
  {
   "cell_type": "code",
   "execution_count": 4,
   "id": "790952f4",
   "metadata": {},
   "outputs": [
    {
     "name": "stdout",
     "output_type": "stream",
     "text": [
      "<class 'pandas.core.frame.DataFrame'>\n",
      "RangeIndex: 281 entries, 0 to 280\n",
      "Data columns (total 17 columns):\n",
      " #   Column     Non-Null Count  Dtype  \n",
      "---  ------     --------------  -----  \n",
      " 0   name_user  279 non-null    object \n",
      " 1   phone      281 non-null    object \n",
      " 2   city       281 non-null    object \n",
      " 3   addres     272 non-null    object \n",
      " 4   kids       268 non-null    object \n",
      " 5   status     262 non-null    object \n",
      " 6   source     46 non-null     object \n",
      " 7   call       276 non-null    object \n",
      " 8   note       99 non-null     object \n",
      " 9   phone_1    281 non-null    int64  \n",
      " 10  phone_2    46 non-null     float64\n",
      " 11  phone_3    4 non-null      float64\n",
      " 12  name_1     275 non-null    object \n",
      " 13  name_2     16 non-null     object \n",
      " 14  name_3     8 non-null      object \n",
      " 15  ages       232 non-null    object \n",
      " 16  avg_age    232 non-null    float64\n",
      "dtypes: float64(3), int64(1), object(13)\n",
      "memory usage: 37.4+ KB\n"
     ]
    },
    {
     "name": "stderr",
     "output_type": "stream",
     "text": [
      "/var/folders/38/l4hfq4694136377jqp7rr75c0000gn/T/ipykernel_57728/3658572446.py:4: SettingWithCopyWarning: \n",
      "A value is trying to be set on a copy of a slice from a DataFrame.\n",
      "Try using .loc[row_indexer,col_indexer] = value instead\n",
      "\n",
      "See the caveats in the documentation: https://pandas.pydata.org/pandas-docs/stable/user_guide/indexing.html#returning-a-view-versus-a-copy\n",
      "  df_list[i]['phone_1'] = df_list[i]['phone_1'].astype(int)\n"
     ]
    }
   ],
   "source": [
    "df_list = [df_16_17,df_17_18,df_18_19,df_19_20,df_20_21,df_21_22,df_22_23,df_23_24]\n",
    "for i in range(0,len(df_list)):\n",
    "    df_list[i] = df_list[i].dropna(subset='phone_1')\n",
    "    df_list[i]['phone_1'] = df_list[i]['phone_1'].astype(int)\n",
    "df_16_17.info()"
   ]
  },
  {
   "cell_type": "markdown",
   "id": "3d781fb7",
   "metadata": {},
   "source": [
    "### Объединение файлов без колонок изменяющие каждый год - звонок клиенту, возраст. Что бы захватить всех клиентов, которые по каким либо причинам были удалены"
   ]
  },
  {
   "cell_type": "code",
   "execution_count": 5,
   "id": "9747b0c1",
   "metadata": {},
   "outputs": [],
   "source": [
    "df = pd.DataFrame(columns=['name_user','phone','name_1','phone_1','name_2','phone_2',\n",
    "                           'name_3','phone_3','city','addres','kids','status','source'])\n",
    "df_list = [df_16_17,df_17_18,df_18_19,df_19_20,df_20_21,df_21_22,df_22_23,df_23_24]\n",
    "for df_i in df_list:\n",
    "    df['phone_1'] = df['phone_1'].astype(int)\n",
    "    df_i = df_i.drop(['call','note','ages','avg_age'],axis=1)\n",
    "    df_i = df_i.dropna(subset='phone_1')\n",
    "    df_i['phone_1'] = df_i['phone_1'].astype(int)\n",
    "    df = pd.concat([df,df_i], axis=0, join='outer')\n",
    "#df.info()"
   ]
  },
  {
   "cell_type": "markdown",
   "id": "9525bc7d",
   "metadata": {},
   "source": [
    "#### Сохранение промежуточного файла"
   ]
  },
  {
   "cell_type": "code",
   "execution_count": 6,
   "id": "69dfa9ff",
   "metadata": {},
   "outputs": [],
   "source": [
    "df.to_excel('concat_client.xlsx', index=False)"
   ]
  },
  {
   "cell_type": "code",
   "execution_count": 7,
   "id": "f42fbbdd",
   "metadata": {},
   "outputs": [],
   "source": [
    "df_concat = pd.read_excel('concat_client.xlsx')"
   ]
  },
  {
   "cell_type": "markdown",
   "id": "0c39ce66",
   "metadata": {},
   "source": [
    "#### Удаление дублей"
   ]
  },
  {
   "cell_type": "code",
   "execution_count": 8,
   "id": "d08deaec",
   "metadata": {},
   "outputs": [],
   "source": [
    "# df_concat.loc[df_concat.duplicated(subset='phone_1',keep='last') == True]"
   ]
  },
  {
   "cell_type": "code",
   "execution_count": 9,
   "id": "d92edb35",
   "metadata": {},
   "outputs": [
    {
     "data": {
      "text/plain": [
       "3424"
      ]
     },
     "execution_count": 9,
     "metadata": {},
     "output_type": "execute_result"
    }
   ],
   "source": [
    "len(df_concat)"
   ]
  },
  {
   "cell_type": "code",
   "execution_count": 10,
   "id": "7dbaf2f0",
   "metadata": {},
   "outputs": [
    {
     "data": {
      "text/plain": [
       "2115"
      ]
     },
     "execution_count": 10,
     "metadata": {},
     "output_type": "execute_result"
    }
   ],
   "source": [
    "len(df_concat) - len(df_concat.drop_duplicates())"
   ]
  },
  {
   "cell_type": "code",
   "execution_count": 11,
   "id": "53a47bf5",
   "metadata": {},
   "outputs": [],
   "source": [
    "df_concat.drop_duplicates(subset='phone_1',keep='last',inplace=True)"
   ]
  },
  {
   "cell_type": "raw",
   "id": "4923bdab",
   "metadata": {},
   "source": [
    "df_concat.drop_duplicates(keep=False,inplace=True,ignore_index=True)"
   ]
  },
  {
   "cell_type": "code",
   "execution_count": 12,
   "id": "dcd8b76d",
   "metadata": {},
   "outputs": [
    {
     "data": {
      "text/plain": [
       "687"
      ]
     },
     "execution_count": 12,
     "metadata": {},
     "output_type": "execute_result"
    }
   ],
   "source": [
    "len(df_concat)"
   ]
  },
  {
   "cell_type": "raw",
   "id": "2482a469",
   "metadata": {},
   "source": [
    "df_concat.loc[df_concat.duplicated(subset='phone_1',keep='last') == True]"
   ]
  },
  {
   "cell_type": "code",
   "execution_count": 13,
   "id": "96d044ae",
   "metadata": {},
   "outputs": [
    {
     "name": "stdout",
     "output_type": "stream",
     "text": [
      "<class 'pandas.core.frame.DataFrame'>\n",
      "Int64Index: 687 entries, 333 to 3423\n",
      "Data columns (total 13 columns):\n",
      " #   Column     Non-Null Count  Dtype  \n",
      "---  ------     --------------  -----  \n",
      " 0   name_user  685 non-null    object \n",
      " 1   phone      687 non-null    object \n",
      " 2   name_1     678 non-null    object \n",
      " 3   phone_1    687 non-null    int64  \n",
      " 4   name_2     24 non-null     object \n",
      " 5   phone_2    88 non-null     float64\n",
      " 6   name_3     9 non-null      object \n",
      " 7   phone_3    7 non-null      float64\n",
      " 8   city       687 non-null    object \n",
      " 9   addres     677 non-null    object \n",
      " 10  kids       649 non-null    object \n",
      " 11  status     680 non-null    object \n",
      " 12  source     247 non-null    object \n",
      "dtypes: float64(2), int64(1), object(10)\n",
      "memory usage: 75.1+ KB\n"
     ]
    }
   ],
   "source": [
    "df_concat.info()"
   ]
  },
  {
   "cell_type": "markdown",
   "id": "f1382b73",
   "metadata": {},
   "source": [
    "#### Сохранение промежуточного файла"
   ]
  },
  {
   "cell_type": "code",
   "execution_count": 14,
   "id": "1ea803c8",
   "metadata": {},
   "outputs": [],
   "source": [
    "df_concat.to_excel('drop_dupli_client.xlsx', index=False)"
   ]
  },
  {
   "cell_type": "code",
   "execution_count": 15,
   "id": "93843a62",
   "metadata": {},
   "outputs": [],
   "source": [
    "df_dubl = pd.read_excel('drop_dupli_client.xlsx')"
   ]
  },
  {
   "cell_type": "markdown",
   "id": "6a5978cf",
   "metadata": {},
   "source": [
    "### Добавление данных по годам для полного списка клиентов"
   ]
  },
  {
   "cell_type": "code",
   "execution_count": 16,
   "id": "982a0d38",
   "metadata": {},
   "outputs": [],
   "source": [
    "df_list = [df_16_17,df_17_18,df_18_19,df_19_20,df_20_21,df_21_22,df_22_23,df_23_24]\n",
    "name_df = ['_16_17','_17_18','_18_19','_19_20','_20_21','_21_22','_22_23','_23_24']\n",
    "df_fin = df_dubl.copy()\n",
    "for i in range(0,len(df_list)):\n",
    "    df_i = df_list[i].drop(['name_user','phone','name_1','name_2','phone_2',\n",
    "                           'name_3','phone_3','city','addres','kids','status','source','note'],axis=1)\n",
    "#     df_i.to_excel('intermediate/'+name_df[i]+'.xlsx', index=False)\n",
    "    df_i.drop_duplicates(subset='phone_1',keep='last',inplace=True)\n",
    "    df_fin = df_fin.merge(df_i, left_on='phone_1', right_on='phone_1', \n",
    "                           how='left', suffixes=('', name_df[i]))\n",
    "#     df_fin.info()\n",
    "df_fin.rename(columns = {'call': 'call_16_17', 'ages': 'ages_16_17', 'avg_age': 'avg_age_16_17'},inplace=True)\n",
    "# df_fin.info()"
   ]
  },
  {
   "cell_type": "code",
   "execution_count": 17,
   "id": "da9c21ab",
   "metadata": {},
   "outputs": [],
   "source": [
    "df_fin.to_excel('full_client.xlsx', index=False)"
   ]
  },
  {
   "cell_type": "markdown",
   "id": "57f71a87",
   "metadata": {},
   "source": [
    "#### Проверка на дубли"
   ]
  },
  {
   "cell_type": "code",
   "execution_count": 18,
   "id": "7262b781",
   "metadata": {},
   "outputs": [
    {
     "data": {
      "text/html": [
       "<div>\n",
       "<style scoped>\n",
       "    .dataframe tbody tr th:only-of-type {\n",
       "        vertical-align: middle;\n",
       "    }\n",
       "\n",
       "    .dataframe tbody tr th {\n",
       "        vertical-align: top;\n",
       "    }\n",
       "\n",
       "    .dataframe thead th {\n",
       "        text-align: right;\n",
       "    }\n",
       "</style>\n",
       "<table border=\"1\" class=\"dataframe\">\n",
       "  <thead>\n",
       "    <tr style=\"text-align: right;\">\n",
       "      <th></th>\n",
       "      <th>name_user</th>\n",
       "      <th>phone</th>\n",
       "      <th>name_1</th>\n",
       "      <th>phone_1</th>\n",
       "      <th>name_2</th>\n",
       "      <th>phone_2</th>\n",
       "      <th>name_3</th>\n",
       "      <th>phone_3</th>\n",
       "      <th>city</th>\n",
       "      <th>addres</th>\n",
       "      <th>...</th>\n",
       "      <th>avg_age_20_21</th>\n",
       "      <th>call_21_22</th>\n",
       "      <th>ages_21_22</th>\n",
       "      <th>avg_age_21_22</th>\n",
       "      <th>call_22_23</th>\n",
       "      <th>ages_22_23</th>\n",
       "      <th>avg_age_22_23</th>\n",
       "      <th>call_23_24</th>\n",
       "      <th>ages_23_24</th>\n",
       "      <th>avg_age_23_24</th>\n",
       "    </tr>\n",
       "  </thead>\n",
       "  <tbody>\n",
       "  </tbody>\n",
       "</table>\n",
       "<p>0 rows × 37 columns</p>\n",
       "</div>"
      ],
      "text/plain": [
       "Empty DataFrame\n",
       "Columns: [name_user, phone, name_1, phone_1, name_2, phone_2, name_3, phone_3, city, addres, kids, status, source, call_16_17, ages_16_17, avg_age_16_17, call_17_18, ages_17_18, avg_age_17_18, call_18_19, ages_18_19, avg_age_18_19, call_19_20, ages_19_20, avg_age_19_20, call_20_21, ages_20_21, avg_age_20_21, call_21_22, ages_21_22, avg_age_21_22, call_22_23, ages_22_23, avg_age_22_23, call_23_24, ages_23_24, avg_age_23_24]\n",
       "Index: []\n",
       "\n",
       "[0 rows x 37 columns]"
      ]
     },
     "execution_count": 18,
     "metadata": {},
     "output_type": "execute_result"
    }
   ],
   "source": [
    "df_fin.loc[df_fin.duplicated() == True]"
   ]
  },
  {
   "cell_type": "code",
   "execution_count": 19,
   "id": "41d06a19",
   "metadata": {},
   "outputs": [],
   "source": [
    "df = df_fin"
   ]
  },
  {
   "cell_type": "code",
   "execution_count": 20,
   "id": "ba7ecdc2",
   "metadata": {},
   "outputs": [
    {
     "name": "stdout",
     "output_type": "stream",
     "text": [
      "<class 'pandas.core.frame.DataFrame'>\n",
      "Int64Index: 687 entries, 0 to 686\n",
      "Data columns (total 37 columns):\n",
      " #   Column         Non-Null Count  Dtype  \n",
      "---  ------         --------------  -----  \n",
      " 0   name_user      685 non-null    object \n",
      " 1   phone          687 non-null    object \n",
      " 2   name_1         678 non-null    object \n",
      " 3   phone_1        687 non-null    int64  \n",
      " 4   name_2         24 non-null     object \n",
      " 5   phone_2        88 non-null     float64\n",
      " 6   name_3         9 non-null      object \n",
      " 7   phone_3        7 non-null      float64\n",
      " 8   city           687 non-null    object \n",
      " 9   addres         677 non-null    object \n",
      " 10  kids           649 non-null    object \n",
      " 11  status         680 non-null    object \n",
      " 12  source         247 non-null    object \n",
      " 13  call_16_17     273 non-null    object \n",
      " 14  ages_16_17     231 non-null    object \n",
      " 15  avg_age_16_17  231 non-null    float64\n",
      " 16  call_17_18     350 non-null    object \n",
      " 17  ages_17_18     303 non-null    object \n",
      " 18  avg_age_17_18  303 non-null    float64\n",
      " 19  call_18_19     281 non-null    object \n",
      " 20  ages_18_19     352 non-null    object \n",
      " 21  avg_age_18_19  352 non-null    float64\n",
      " 22  call_19_20     157 non-null    object \n",
      " 23  ages_19_20     360 non-null    object \n",
      " 24  avg_age_19_20  360 non-null    float64\n",
      " 25  call_20_21     278 non-null    object \n",
      " 26  ages_20_21     408 non-null    object \n",
      " 27  avg_age_20_21  408 non-null    float64\n",
      " 28  call_21_22     161 non-null    object \n",
      " 29  ages_21_22     426 non-null    object \n",
      " 30  avg_age_21_22  426 non-null    float64\n",
      " 31  call_22_23     215 non-null    object \n",
      " 32  ages_22_23     482 non-null    object \n",
      " 33  avg_age_22_23  482 non-null    float64\n",
      " 34  call_23_24     158 non-null    object \n",
      " 35  ages_23_24     140 non-null    object \n",
      " 36  avg_age_23_24  140 non-null    float64\n",
      "dtypes: float64(10), int64(1), object(26)\n",
      "memory usage: 204.0+ KB\n"
     ]
    }
   ],
   "source": [
    "df.info()"
   ]
  },
  {
   "cell_type": "markdown",
   "id": "0cd99652",
   "metadata": {},
   "source": [
    "#### Редактирование возраста с исходом первоначального значения, для заполнения некорректных и пустых значений"
   ]
  },
  {
   "cell_type": "code",
   "execution_count": 21,
   "id": "48c77016",
   "metadata": {},
   "outputs": [],
   "source": [
    "df = df_fin[['ages_16_17', 'ages_17_18', 'ages_18_19', 'ages_19_20', 'ages_20_21', \n",
    "             'ages_21_22', 'ages_22_23', 'ages_23_24']]"
   ]
  },
  {
   "cell_type": "code",
   "execution_count": 22,
   "id": "cc4579ad",
   "metadata": {},
   "outputs": [],
   "source": [
    "# df - просмотр с чем рабоем"
   ]
  },
  {
   "cell_type": "code",
   "execution_count": 23,
   "id": "e310f158",
   "metadata": {},
   "outputs": [
    {
     "name": "stderr",
     "output_type": "stream",
     "text": [
      "/var/folders/38/l4hfq4694136377jqp7rr75c0000gn/T/ipykernel_57728/2759226717.py:15: SettingWithCopyWarning: \n",
      "A value is trying to be set on a copy of a slice from a DataFrame\n",
      "\n",
      "See the caveats in the documentation: https://pandas.pydata.org/pandas-docs/stable/user_guide/indexing.html#returning-a-view-versus-a-copy\n",
      "  df[column_2][i] = column_n[i]\n"
     ]
    }
   ],
   "source": [
    "def increasing_the_age(column_1, column_2):\n",
    "    column_n=[]\n",
    "    for row in df[column_1]:\n",
    "        row_n=[]\n",
    "        if not pd.isnull(row):\n",
    "            list_r = row.strip('][').split(', ')\n",
    "            for i in list_r:\n",
    "                row_n.append(float(i)+1)\n",
    "        else:\n",
    "            row_n.append(np.nan)\n",
    "        column_n.append(str(row_n)) \n",
    "    \n",
    "    for i in range(0,len(df[column_2])):\n",
    "        if column_n[i] != '[nan]':\n",
    "                df[column_2][i] = column_n[i]\n",
    "            \n",
    "            \n",
    "increasing_the_age('ages_16_17', 'ages_17_18')\n",
    "increasing_the_age('ages_17_18', 'ages_18_19')\n",
    "increasing_the_age('ages_18_19', 'ages_19_20')\n",
    "increasing_the_age('ages_19_20', 'ages_20_21')\n",
    "increasing_the_age('ages_20_21', 'ages_21_22')\n",
    "increasing_the_age('ages_21_22', 'ages_22_23')\n",
    "increasing_the_age('ages_22_23', 'ages_23_24')"
   ]
  },
  {
   "cell_type": "code",
   "execution_count": 24,
   "id": "8c7a8bc5",
   "metadata": {},
   "outputs": [],
   "source": [
    "# df - просмотр с чем рабоем"
   ]
  },
  {
   "cell_type": "code",
   "execution_count": 25,
   "id": "7aa0060b",
   "metadata": {},
   "outputs": [],
   "source": [
    "df_fin[['ages_16_17', 'ages_17_18', 'ages_18_19', 'ages_19_20', 'ages_20_21', \n",
    "             'ages_21_22', 'ages_22_23', 'ages_23_24']] = df"
   ]
  },
  {
   "cell_type": "code",
   "execution_count": 26,
   "id": "b75de11a",
   "metadata": {},
   "outputs": [],
   "source": [
    "# df_fin - просмотр с чем рабоем"
   ]
  },
  {
   "cell_type": "markdown",
   "id": "28f9b450",
   "metadata": {},
   "source": [
    "#### Аналогично что делали с возрастом"
   ]
  },
  {
   "cell_type": "code",
   "execution_count": 27,
   "id": "eb465101",
   "metadata": {},
   "outputs": [],
   "source": [
    "df = df_fin[['avg_age_16_17', 'avg_age_17_18', 'avg_age_18_19', 'avg_age_19_20', 'avg_age_20_21', \n",
    "             'avg_age_21_22', 'avg_age_22_23', 'avg_age_23_24']]"
   ]
  },
  {
   "cell_type": "code",
   "execution_count": 28,
   "id": "d3c35667",
   "metadata": {},
   "outputs": [],
   "source": [
    "# df - просмотр с чем рабоем"
   ]
  },
  {
   "cell_type": "code",
   "execution_count": 29,
   "id": "6554ca2f",
   "metadata": {},
   "outputs": [
    {
     "name": "stderr",
     "output_type": "stream",
     "text": [
      "/var/folders/38/l4hfq4694136377jqp7rr75c0000gn/T/ipykernel_57728/3654623505.py:14: SettingWithCopyWarning: \n",
      "A value is trying to be set on a copy of a slice from a DataFrame\n",
      "\n",
      "See the caveats in the documentation: https://pandas.pydata.org/pandas-docs/stable/user_guide/indexing.html#returning-a-view-versus-a-copy\n",
      "  df[column_2][i] = column_n[i]\n"
     ]
    }
   ],
   "source": [
    "def increasing_the_age_avg(column_1, column_2):\n",
    "    column_n=[]\n",
    "    for row in df[column_1]:\n",
    "#         row_n=[]\n",
    "        if not pd.isnull(row):\n",
    "            column_n.append(float(row)+1)\n",
    "        else:\n",
    "            column_n.append(np.nan)\n",
    "#         column_n.append(row_n) \n",
    "#     print(row_n)\n",
    "    \n",
    "    for i in range(0,len(df[column_2])):\n",
    "        if not pd.isnull(column_n[i]):\n",
    "                df[column_2][i] = column_n[i]\n",
    "            \n",
    "            \n",
    "increasing_the_age_avg('avg_age_16_17', 'avg_age_17_18')\n",
    "increasing_the_age_avg('avg_age_17_18', 'avg_age_18_19')\n",
    "increasing_the_age_avg('avg_age_18_19', 'avg_age_19_20')\n",
    "increasing_the_age_avg('avg_age_19_20', 'avg_age_20_21')\n",
    "increasing_the_age_avg('avg_age_20_21', 'avg_age_21_22')\n",
    "increasing_the_age_avg('avg_age_21_22', 'avg_age_22_23')\n",
    "increasing_the_age_avg('avg_age_22_23', 'avg_age_23_24')"
   ]
  },
  {
   "cell_type": "code",
   "execution_count": 30,
   "id": "565bb37f",
   "metadata": {},
   "outputs": [],
   "source": [
    "# df - просмотр с чем рабоем"
   ]
  },
  {
   "cell_type": "code",
   "execution_count": 31,
   "id": "8da009af",
   "metadata": {},
   "outputs": [],
   "source": [
    "df_fin[['avg_age_16_17', 'avg_age_17_18', 'avg_age_18_19', 'avg_age_19_20', 'avg_age_20_21', \n",
    "             'avg_age_21_22', 'avg_age_22_23', 'avg_age_23_24']] = df"
   ]
  },
  {
   "cell_type": "code",
   "execution_count": 32,
   "id": "219edc74",
   "metadata": {},
   "outputs": [],
   "source": [
    "# df_fin - просмотр с чем рабоем"
   ]
  },
  {
   "cell_type": "code",
   "execution_count": 33,
   "id": "cfe19997",
   "metadata": {},
   "outputs": [],
   "source": [
    "df_fin.to_excel('full_client.xlsx', index=False)"
   ]
  },
  {
   "cell_type": "code",
   "execution_count": 34,
   "id": "e5f666f7",
   "metadata": {},
   "outputs": [],
   "source": [
    "df = df_fin[['call_23_24', 'call_22_23', 'call_21_22', 'call_20_21', \n",
    "             'call_19_20', 'call_18_19', 'call_17_18', 'call_16_17' ]]"
   ]
  },
  {
   "cell_type": "code",
   "execution_count": 35,
   "id": "8f792b2d",
   "metadata": {},
   "outputs": [],
   "source": [
    "# df - просмотр с чем рабоем"
   ]
  },
  {
   "cell_type": "markdown",
   "id": "25993ba3",
   "metadata": {},
   "source": [
    "#### Создание колонки с количеством заказов"
   ]
  },
  {
   "cell_type": "code",
   "execution_count": 36,
   "id": "657aab3d",
   "metadata": {},
   "outputs": [],
   "source": [
    "new_row = [0] * 687\n",
    "for column in df:\n",
    "    for i in range(0,len(df[column])):\n",
    "        if df[column][i] in ['Заказал', 'Отменил']:\n",
    "            new_row[i] = new_row[i] + 1\n",
    "df_fin['number_orders'] = new_row"
   ]
  },
  {
   "cell_type": "code",
   "execution_count": 37,
   "id": "99811718",
   "metadata": {},
   "outputs": [
    {
     "data": {
      "text/plain": [
       "1    367\n",
       "2    120\n",
       "0     74\n",
       "3     66\n",
       "4     32\n",
       "5     14\n",
       "7      7\n",
       "6      7\n",
       "Name: number_orders, dtype: int64"
      ]
     },
     "execution_count": 37,
     "metadata": {},
     "output_type": "execute_result"
    }
   ],
   "source": [
    "df_fin['number_orders'].value_counts()"
   ]
  },
  {
   "cell_type": "code",
   "execution_count": 38,
   "id": "b436d846",
   "metadata": {},
   "outputs": [],
   "source": [
    "df_fin['id'] = df_fin.index"
   ]
  },
  {
   "cell_type": "code",
   "execution_count": 39,
   "id": "e0467411",
   "metadata": {},
   "outputs": [],
   "source": [
    "# df_fin - просмотр с чем рабоем"
   ]
  },
  {
   "cell_type": "code",
   "execution_count": 40,
   "id": "81c1d944",
   "metadata": {},
   "outputs": [],
   "source": [
    "df_fin.to_excel('full_client.xlsx', index=False)"
   ]
  }
 ],
 "metadata": {
  "kernelspec": {
   "display_name": "Python 3 (ipykernel)",
   "language": "python",
   "name": "python3"
  },
  "language_info": {
   "codemirror_mode": {
    "name": "ipython",
    "version": 3
   },
   "file_extension": ".py",
   "mimetype": "text/x-python",
   "name": "python",
   "nbconvert_exporter": "python",
   "pygments_lexer": "ipython3",
   "version": "3.10.9"
  }
 },
 "nbformat": 4,
 "nbformat_minor": 5
}
